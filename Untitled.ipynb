{
 "cells": [
  {
   "cell_type": "code",
   "execution_count": 2,
   "metadata": {},
   "outputs": [
    {
     "ename": "SyntaxError",
     "evalue": "unexpected character after line continuation character (<ipython-input-2-5cc040cec1bd>, line 2)",
     "output_type": "error",
     "traceback": [
      "\u001b[1;36m  File \u001b[1;32m\"<ipython-input-2-5cc040cec1bd>\"\u001b[1;36m, line \u001b[1;32m2\u001b[0m\n\u001b[1;33m    print(\"Please select an option \\n\"      \"1.Add\\n\"      \"2.Subtract\\n\"      \"3.Multiply \\n\"      \"4.Divide \\n\" \\)\u001b[0m\n\u001b[1;37m                                                                                                                    ^\u001b[0m\n\u001b[1;31mSyntaxError\u001b[0m\u001b[1;31m:\u001b[0m unexpected character after line continuation character\n"
     ]
    }
   ],
   "source": [
    "# Print user menu \n",
    "print(\"Please select an option \\n\" \\\n",
    "     \"1.Add\\n\" \\\n",
    "     \"2.Subtract\\n\" \\\n",
    "     \"3.Multiply \\n\" \\\n",
    "     \"4.Divide \\n\" \\)\n",
    "\n",
    "\n",
    "# Take input from the user for operation , followed by numbers. \n",
    "select = input(\"Select from above\")\n",
    "\n",
    "number_1 = int(input(\"enter first number: \"))\n",
    "number_2 = int(input(\"enter second number\"))"
   ]
  },
  {
   "cell_type": "code",
   "execution_count": null,
   "metadata": {},
   "outputs": [],
   "source": []
  }
 ],
 "metadata": {
  "kernelspec": {
   "display_name": "learn-env",
   "language": "python",
   "name": "learn-env"
  },
  "language_info": {
   "codemirror_mode": {
    "name": "ipython",
    "version": 3
   },
   "file_extension": ".py",
   "mimetype": "text/x-python",
   "name": "python",
   "nbconvert_exporter": "python",
   "pygments_lexer": "ipython3",
   "version": "3.6.6"
  }
 },
 "nbformat": 4,
 "nbformat_minor": 2
}
